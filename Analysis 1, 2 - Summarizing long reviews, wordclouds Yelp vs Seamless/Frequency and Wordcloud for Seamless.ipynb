{
 "cells": [
  {
   "cell_type": "code",
   "execution_count": 4,
   "metadata": {
    "collapsed": false
   },
   "outputs": [
    {
     "name": "stdout",
     "output_type": "stream",
     "text": [
      "[('food', 2258), ('order', 2199), ('delivery', 1171), ('time', 743), ('pizza', 704), ('place', 472), ('chicken', 355), ('service', 353), ('hour', 350), ('taste', 268), ('fry', 236), ('call', 222), ('sauce', 206), ('deliver', 204), ('price', 194), ('everything', 192), ('get', 186), ('love', 184), ('restaurant', 180), ('rice', 167), ('driver', 161), ('quality', 151), ('minute', 145), ('way', 135), ('eat', 134), ('salad', 132), ('portion', 131), ('guy', 128), ('roll', 128), ('thing', 123), ('try', 110), ('burger', 104), ('soup', 103), ('customer', 97), ('meat', 96), ('meal', 94), ('sandwich', 92), ('nothing', 91), ('lot', 91), ('pay', 90), ('side', 89), ('beef', 89), ('bread', 85), ('star', 82), ('sushi', 81), ('thai', 81), ('something', 81), ('half', 80), ('item', 79), ('flavor', 77), ('egg', 77), ('grubhub', 75), ('crust', 71), ('use', 70), ('wait', 69), ('amaze', 69), ('tell', 67), ('spicy', 67), ('cook', 65), ('grub', 65), ('fast', 64), ('shrimp', 64), ('ask', 64), ('thank', 63), ('bite', 60), ('look', 59), ('onion', 59), ('cheese', 59), ('person', 59), ('crab', 59), ('house', 58), ('experience', 57), ('size', 57), ('amount', 57), ('hub', 56), ('sub', 54), ('pork', 53), ('disappoint', 53), ('pasta', 52), ('forget', 51), ('lunch', 50), ('menu', 50), ('money', 49), ('curry', 48), ('day', 48), ('estimate', 47), ('kind', 47), ('anything', 47), ('night', 46), ('review', 46), ('end', 45), ('super', 45), ('steak', 44), ('bbq', 44), ('work', 43), ('phone', 43), ('staff', 43), ('bland', 42), ('option', 42), ('rangoon', 41)]\n",
      "Requirement already satisfied (use --upgrade to upgrade): wordcloud in c:\\users\\linda\\anaconda3\\lib\\site-packages\n"
     ]
    },
    {
     "name": "stderr",
     "output_type": "stream",
     "text": [
      "You are using pip version 7.0.3, however version 7.1.2 is available.\n",
      "You should consider upgrading via the 'python -m pip install --upgrade pip' command.\n"
     ]
    }
   ],
   "source": [
    "import pymysql #Connector library for mysql\n",
    "import re\n",
    "import nltk\n",
    "from nltk.tokenize import *\n",
    "from nltk.corpus import stopwords\n",
    "from nltk.stem import *\n",
    "from nltk import *\n",
    "\n",
    "# Stem the\n",
    "def stem(word):\n",
    "    wnl = WordNetLemmatizer()\n",
    "    temp_text=wnl.lemmatize(word,'v')\n",
    "    return wnl.lemmatize(temp_text,'n')\n",
    "\n",
    "# Tokenize\n",
    "def tokenize(review):\n",
    "    tok = TreebankWordTokenizer().tokenize(review)\n",
    "    return tok\n",
    "\n",
    "# Remove stopwords\n",
    "def remove_stop(review):\n",
    "    stopset = set(stopwords.words('english'))\n",
    "    result_text= [w for w in review if not w in stopset]\n",
    "    return result_text\n",
    "\n",
    "#Set up a connection with the server\n",
    "try:\n",
    "    conn = pymysql.connect(host = 'localhost', port = 3306, user = 'root', passwd = 'root', db='YELP_DATA_PROJECT')\n",
    "except:\n",
    "    print(\"I am unable to connect to the database\")\n",
    "#And a cursor object that will serve as a virtual 'cursor'\n",
    "curr = conn.cursor()\n",
    "extract_seamless_review=('Select reviews from seamless_data;')\n",
    "curr.execute(extract_seamless_review)\n",
    "results=curr.fetchall()\n",
    "reviews_text=\"\"\n",
    "for row in results:\n",
    "    reviews_text+=row[0]\n",
    "\n",
    "    \n",
    "#results=list(curr.fetchall())\n",
    "#results=[i[0] for i in results]\n",
    "\n",
    "#Tokenize the reviews -- Takes as input a string\n",
    "tokenized_reviews=tokenize(reviews_text)\n",
    "\n",
    "#stem reviews & lower case\n",
    "stemmed_reviews=\"\"\n",
    "for word in tokenized_reviews:\n",
    "    word=word.lower()\n",
    "    stemmed_reviews+=stem(word) +\" \"\n",
    "\n",
    "#Tokenize stemmed text\n",
    "tok_stem_reviews=tokenize(stemmed_reviews)\n",
    "\n",
    "#Remove stopwords\n",
    "tok_stem_stop_reviews=remove_stop(tok_stem_reviews)\n",
    "\n",
    "#Only keep words with only letters\n",
    "preprocessed_words=[]\n",
    "for word in tok_stem_stop_reviews:\n",
    "    if(word.isalpha()):\n",
    "        preprocessed_words.append(word)\n",
    "        \n",
    "#Part of speech tagging -> Only keep nouns\n",
    "reviews_nouns=[]\n",
    "str_nouns=\"\"\n",
    "pos=nltk.pos_tag(preprocessed_words)\n",
    "leng = len(pos)\n",
    "for x in range(0,leng):\n",
    "    if(pos[x][1]==\"NN\"):\n",
    "        reviews_nouns.append(pos[x][0])\n",
    "        str_nouns+=str(pos[x][0])+\" \"\n",
    "\n",
    "        \n",
    "#Frequency analysis\n",
    "fdist = FreqDist(reviews_nouns)\n",
    "top_100=fdist.most_common(100)\n",
    "print(top_100)\n",
    "\n",
    "\n",
    "#Wordcloud\n",
    "import matplotlib.pyplot as plt\n",
    "!pip install wordcloud\n",
    "from wordcloud import WordCloud\n",
    "\n",
    "def word_cloud(text):\n",
    "    wordcloud = WordCloud().generate(text)\n",
    "    # Open a plot of the generated image.\n",
    "    plt.imshow(wordcloud)\n",
    "    plt.axis(\"off\")\n",
    "    plt.show()\n",
    "\n",
    "#Wordcloud of Yelp data\n",
    "word_cloud(str_nouns)\n",
    "\n"
   ]
  },
  {
   "cell_type": "code",
   "execution_count": null,
   "metadata": {
    "collapsed": true
   },
   "outputs": [],
   "source": []
  }
 ],
 "metadata": {
  "kernelspec": {
   "display_name": "Python 3",
   "language": "python",
   "name": "python3"
  },
  "language_info": {
   "codemirror_mode": {
    "name": "ipython",
    "version": 3
   },
   "file_extension": ".py",
   "mimetype": "text/x-python",
   "name": "python",
   "nbconvert_exporter": "python",
   "pygments_lexer": "ipython3",
   "version": "3.4.3"
  }
 },
 "nbformat": 4,
 "nbformat_minor": 0
}
