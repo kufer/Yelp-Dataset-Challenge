{
 "cells": [
  {
   "cell_type": "code",
   "execution_count": 1,
   "metadata": {
    "collapsed": false
   },
   "outputs": [
    {
     "name": "stdout",
     "output_type": "stream",
     "text": [
      "[('food', 6155), ('place', 5490), ('order', 4245), ('time', 3261), ('service', 3010), ('restaurant', 1765), ('eat', 1724), ('price', 1410), ('get', 1386), ('taste', 1379), ('try', 1355), ('thing', 1265), ('menu', 1179), ('chicken', 1161), ('bar', 1109), ('look', 1078), ('way', 1061), ('burger', 1060), ('fry', 1035), ('night', 1029), ('pizza', 995), ('staff', 990), ('everything', 965), ('lot', 915), ('dinner', 914), ('love', 895), ('star', 889), ('sauce', 888), ('hour', 870), ('meal', 869), ('lunch', 861), ('side', 857), ('something', 829), ('experience', 823), ('day', 791), ('wait', 788), ('meat', 785), ('beer', 763), ('flavor', 755), ('friend', 750), ('sit', 741), ('roll', 729), ('salad', 719), ('drink', 699), ('seat', 674), ('server', 665), ('beef', 657), ('cook', 649), ('visit', 649), ('portion', 645), ('nothing', 643), ('rice', 642), ('review', 622), ('bread', 616), ('location', 603), ('sushi', 597), ('breakfast', 591), ('year', 590), ('steak', 589), ('quality', 586), ('ask', 577), ('potato', 575), ('bite', 574), ('pork', 574), ('egg', 573), ('work', 554), ('minute', 553), ('kind', 549), ('area', 544), ('use', 537), ('customer', 516), ('anything', 515), ('spicy', 490), ('soup', 489), ('buffet', 485), ('item', 484), ('selection', 484), ('end', 473), ('dessert', 468), ('chip', 465), ('home', 463), ('sandwich', 459), ('cream', 451), ('family', 448), ('option', 446), ('shrimp', 444), ('table', 442), ('ice', 435), ('waitress', 435), ('onion', 434), ('everyone', 433), ('waiter', 424), ('course', 423), ('rib', 418), ('house', 416), ('line', 415), ('enjoy', 415), ('pay', 414), ('tell', 414), ('husband', 412)]\n",
      "Requirement already satisfied (use --upgrade to upgrade): wordcloud in c:\\users\\linda\\anaconda3\\lib\\site-packages\n"
     ]
    },
    {
     "name": "stderr",
     "output_type": "stream",
     "text": [
      "You are using pip version 7.0.3, however version 7.1.2 is available.\n",
      "You should consider upgrading via the 'python -m pip install --upgrade pip' command.\n"
     ]
    }
   ],
   "source": [
    "import pymysql #Connector library for mysql\n",
    "import re\n",
    "import nltk\n",
    "from nltk.tokenize import *\n",
    "from nltk.corpus import stopwords\n",
    "from nltk.stem import *\n",
    "from nltk import *\n",
    "\n",
    "# Stem the\n",
    "def stem(word):\n",
    "    wnl = WordNetLemmatizer()\n",
    "    temp_text=wnl.lemmatize(word,'v')\n",
    "    return wnl.lemmatize(temp_text,'n')\n",
    "\n",
    "# Tokenize\n",
    "def tokenize(review):\n",
    "    tok = TreebankWordTokenizer().tokenize(review)\n",
    "    return tok\n",
    "\n",
    "# Remove stopwords\n",
    "def remove_stop(review):\n",
    "    stopset = set(stopwords.words('english'))\n",
    "    result_text= [w for w in review if not w in stopset]\n",
    "    return result_text\n",
    "\n",
    "#Set up a connection with the server\n",
    "try:\n",
    "    conn = pymysql.connect(host = 'localhost', port = 3306, user = 'root', passwd = 'root', db='YELP_DATA_PROJECT')\n",
    "except:\n",
    "    print(\"I am unable to connect to the database\")\n",
    "#And a cursor object that will serve as a virtual 'cursor'\n",
    "curr = conn.cursor()\n",
    "extract_usa_review=('Select text from usa_reviews limit 9000;')\n",
    "curr.execute(extract_usa_review)\n",
    "results=curr.fetchall()\n",
    "reviews_text=\"\"\n",
    "for row in results:\n",
    "    reviews_text+=row[0]\n",
    "\n",
    "\n",
    "#Tokenize the reviews -- Takes as input a string\n",
    "tokenized_reviews=tokenize(reviews_text)\n",
    "\n",
    "#stem reviews & lower case\n",
    "stemmed_reviews=\"\"\n",
    "for word in tokenized_reviews:\n",
    "    word=word.lower()\n",
    "    stemmed_reviews+=stem(word) +\" \"\n",
    "\n",
    "#Tokenize stemmed text\n",
    "tok_stem_reviews=tokenize(stemmed_reviews)\n",
    "\n",
    "#Remove stopwords\n",
    "tok_stem_stop_reviews=remove_stop(tok_stem_reviews)\n",
    "\n",
    "#Only keep words with only letters\n",
    "preprocessed_words=[]\n",
    "for word in tok_stem_stop_reviews:\n",
    "    if(word.isalpha()):\n",
    "        preprocessed_words.append(word)\n",
    "        \n",
    "#Part of speech tagging -> Only keep nouns\n",
    "reviews_nouns=[]\n",
    "str_nouns=\"\"\n",
    "pos=nltk.pos_tag(preprocessed_words)\n",
    "leng = len(pos)\n",
    "for x in range(0,leng):\n",
    "    if(pos[x][1]==\"NN\"):\n",
    "        reviews_nouns.append(pos[x][0])\n",
    "        str_nouns+=str(pos[x][0])+\" \"\n",
    "\n",
    "        \n",
    "#Frequency analysis\n",
    "fdist = FreqDist(reviews_nouns)\n",
    "top_100=fdist.most_common(100)\n",
    "print(top_100)\n",
    "\n",
    "\n",
    "#Wordcloud\n",
    "import matplotlib.pyplot as plt\n",
    "!pip install wordcloud\n",
    "from wordcloud import WordCloud\n",
    "\n",
    "def word_cloud(text):\n",
    "    wordcloud = WordCloud().generate(text)\n",
    "    # Open a plot of the generated image.\n",
    "    plt.imshow(wordcloud)\n",
    "    plt.axis(\"off\")\n",
    "    plt.show()\n",
    "\n",
    "#Wordcloud of Yelp data\n",
    "word_cloud(str_nouns)\n",
    "\n"
   ]
  },
  {
   "cell_type": "code",
   "execution_count": null,
   "metadata": {
    "collapsed": false
   },
   "outputs": [],
   "source": []
  }
 ],
 "metadata": {
  "kernelspec": {
   "display_name": "Python 3",
   "language": "python",
   "name": "python3"
  },
  "language_info": {
   "codemirror_mode": {
    "name": "ipython",
    "version": 3
   },
   "file_extension": ".py",
   "mimetype": "text/x-python",
   "name": "python",
   "nbconvert_exporter": "python",
   "pygments_lexer": "ipython3",
   "version": "3.4.3"
  }
 },
 "nbformat": 4,
 "nbformat_minor": 0
}
