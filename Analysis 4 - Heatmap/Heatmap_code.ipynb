{
 "cells": [
  {
   "cell_type": "code",
   "execution_count": 2,
   "metadata": {
    "collapsed": false
   },
   "outputs": [
    {
     "name": "stdout",
     "output_type": "stream",
     "text": [
      "The available cuisine are\n",
      "Please enter the cuisine:chinese\n"
     ]
    }
   ],
   "source": [
    "import matplotlib.image as mpimg\n",
    "import numpy as np\n",
    "import math\n",
    "import pymysql #Connector library for mysql\n",
    "import matplotlib.pyplot as plt\n",
    "\n",
    "conn = pymysql.connect(host='localhost', port=8889, user='root', passwd='root')\n",
    "curr = conn.cursor()\n",
    "curr.execute(\"USE YELP_DATA_PROJECT;\")\n",
    "\n",
    "#limits of Las Vegas map\n",
    "MAX_LAT = 36.384459\n",
    "MAX_LON = -114.901368\n",
    "MIN_LAT = 36.027979\n",
    "MIN_LON= -115.401151\n",
    "W= (MAX_LON-MIN_LON)*40075*math.cos((MAX_LAT+MIN_LAT)*math.pi/360)/360\n",
    "H= (MAX_LAT-MIN_LAT)*40075/360\n",
    "pic_width=636\n",
    "pic_height=551\n",
    "\n",
    "def convert_lat_lon(lon,lat):\n",
    "    x_real_size = (lon-MIN_LON)*40075*math.cos((MAX_LAT+lat)*math.pi/360)/360\n",
    "    y_real_size = (MAX_LAT-lat)*40075/360\n",
    "    x=(x_real_size/W)*pic_width\n",
    "    y=(y_real_size/H)*pic_height\n",
    "    return x, y\n",
    "\n",
    "\n",
    "im = plt.imread('Las Vegas map.png')\n",
    "implot = plt.imshow(im)\n",
    "\n",
    "#ask the user to enter a cuisine\n",
    "cuisine=input(\"Please enter the cuisine:\")\n",
    "\n",
    "#Select only the restaurant stars rating location in lat lon that are located on the map image file of Las Vegas\n",
    "curr.execute (\"SELECT latitude, longitude, stars,categories FROM usa_businesses where city = 'Las Vegas' AND latitude <\"+str(MAX_LAT)+\" AND latitude >\"+str(MIN_LAT)+\" AND longitude < \"+str(MAX_LON)+\" AND longitude > \"+str(MIN_LON)+\" AND categories like '%\"+cuisine+\"%';\") # fetch all of the rows from the query\n",
    "results = curr.fetchall ()\n",
    "for row in results:\n",
    "    lat = row[0]\n",
    "    lon = row[1]\n",
    "    stars = row[2]\n",
    "    color='black'\n",
    "    if(stars==1 or stars==1.5):\n",
    "        color='r'\n",
    "    elif(stars==2 or stars==2.5):\n",
    "        color='orange'\n",
    "    elif(stars==3 or stars==3.5):\n",
    "        color='yellow'\n",
    "    elif(stars==4 or stars==4.5):\n",
    "        color='green'\n",
    "    elif(stars==5):\n",
    "        color='blue'\n",
    "    plt.scatter([convert_lat_lon(lon,lat)[0]], [convert_lat_lon(lon,lat)[1]],c=color)\n",
    "\n",
    "plt.show()"
   ]
  }
 ],
 "metadata": {
  "kernelspec": {
   "display_name": "Python 3",
   "language": "python",
   "name": "python3"
  },
  "language_info": {
   "codemirror_mode": {
    "name": "ipython",
    "version": 3
   },
   "file_extension": ".py",
   "mimetype": "text/x-python",
   "name": "python",
   "nbconvert_exporter": "python",
   "pygments_lexer": "ipython3",
   "version": "3.4.3"
  }
 },
 "nbformat": 4,
 "nbformat_minor": 0
}
